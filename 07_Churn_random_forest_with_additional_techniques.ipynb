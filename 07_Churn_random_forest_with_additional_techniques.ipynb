{
 "cells": [
  {
   "cell_type": "markdown",
   "id": "06a11a85",
   "metadata": {},
   "source": [
    "\n",
    "I will be reviewing the data set to determine the best ouput from the following models. \n",
    "\n",
    "•  decision trees\n",
    "\n",
    "•  random forests\n",
    "\n",
    "•  advanced regression (i.e., lasso or ridge regression)"
   ]
  },
  {
   "cell_type": "code",
   "execution_count": 1,
   "id": "5dc45d08",
   "metadata": {},
   "outputs": [],
   "source": [
    "#### LOAD LIBRARIES\n",
    "##### system\n",
    "import sys, os\n",
    "\n",
    "##### Data\n",
    "import pandas as pd\n",
    "import numpy as np\n",
    "import seaborn as sns\n",
    "\n",
    "\n",
    "###### stats\n",
    "import scipy.stats as stats\n",
    "import math\n",
    "import statsmodels.api as sm\n",
    "\n",
    "##### Visualization\n",
    "import matplotlib as mpl\n",
    "import matplotlib.pyplot as plt\n",
    "from matplotlib import rcParams\n",
    "\n",
    "###### analysis\n",
    "from sklearn import preprocessing\n",
    "from sklearn.preprocessing import scale\n",
    "from sklearn.impute import SimpleImputer\n",
    "from sklearn.decomposition import PCA\n",
    "from sklearn.preprocessing import StandardScaler\n",
    "\n",
    "import sys\n",
    "from time import time\n",
    "import numpy as np\n",
    "import pandas as pd\n",
    "from sklearn.model_selection import cross_validate, GridSearchCV, train_test_split, StratifiedShuffleSplit\n",
    "from sklearn.feature_selection import SelectKBest, SelectPercentile, f_classif\n",
    "from sklearn.naive_bayes import GaussianNB\n",
    "from sklearn.tree import DecisionTreeClassifier\n",
    "from sklearn.metrics import accuracy_score, precision_score, f1_score\n",
    "from sklearn.preprocessing import StandardScaler\n",
    "import pickle\n",
    "from sklearn.pipeline import Pipeline, make_pipeline, FeatureUnion\n",
    "from sklearn import svm\n",
    "\n",
    "##### VISUALIZATION\n",
    "import seaborn as sns\n",
    "import matplotlib.pyplot as plt\n",
    "plt.rcParams.update({'figure.max_open_warning': 0})\n",
    "from sklearn.preprocessing import MinMaxScaler\n",
    "from sklearn.model_selection import GridSearchCV"
   ]
  },
  {
   "cell_type": "code",
   "execution_count": 2,
   "id": "45afeadc",
   "metadata": {},
   "outputs": [
    {
     "data": {
      "text/html": [
       "<div>\n",
       "<style scoped>\n",
       "    .dataframe tbody tr th:only-of-type {\n",
       "        vertical-align: middle;\n",
       "    }\n",
       "\n",
       "    .dataframe tbody tr th {\n",
       "        vertical-align: top;\n",
       "    }\n",
       "\n",
       "    .dataframe thead th {\n",
       "        text-align: right;\n",
       "    }\n",
       "</style>\n",
       "<table border=\"1\" class=\"dataframe\">\n",
       "  <thead>\n",
       "    <tr style=\"text-align: right;\">\n",
       "      <th></th>\n",
       "      <th>CaseOrder</th>\n",
       "      <th>Customer_id</th>\n",
       "      <th>Interaction</th>\n",
       "      <th>UID</th>\n",
       "      <th>input_date</th>\n",
       "      <th>City</th>\n",
       "      <th>State</th>\n",
       "      <th>County</th>\n",
       "      <th>Zip</th>\n",
       "      <th>Lat</th>\n",
       "      <th>...</th>\n",
       "      <th>MonthlyCharge</th>\n",
       "      <th>Bandwidth_GB_Year</th>\n",
       "      <th>Item1</th>\n",
       "      <th>Item2</th>\n",
       "      <th>Item3</th>\n",
       "      <th>Item4</th>\n",
       "      <th>Item5</th>\n",
       "      <th>Item6</th>\n",
       "      <th>Item7</th>\n",
       "      <th>Item8</th>\n",
       "    </tr>\n",
       "  </thead>\n",
       "  <tbody>\n",
       "    <tr>\n",
       "      <th>0</th>\n",
       "      <td>1</td>\n",
       "      <td>K409198</td>\n",
       "      <td>aa90260b-4141-4a24-8e36-b04ce1f4f77b</td>\n",
       "      <td>e885b299883d4f9fb18e39c75155d990</td>\n",
       "      <td>6/29/2021</td>\n",
       "      <td>Point Baker</td>\n",
       "      <td>AK</td>\n",
       "      <td>Prince of Wales-Hyder</td>\n",
       "      <td>99927</td>\n",
       "      <td>56.25100</td>\n",
       "      <td>...</td>\n",
       "      <td>172.455519</td>\n",
       "      <td>904.536110</td>\n",
       "      <td>5</td>\n",
       "      <td>5</td>\n",
       "      <td>5</td>\n",
       "      <td>3</td>\n",
       "      <td>4</td>\n",
       "      <td>4</td>\n",
       "      <td>3</td>\n",
       "      <td>4</td>\n",
       "    </tr>\n",
       "    <tr>\n",
       "      <th>1</th>\n",
       "      <td>2</td>\n",
       "      <td>S120509</td>\n",
       "      <td>fb76459f-c047-4a9d-8af9-e0f7d4ac2524</td>\n",
       "      <td>f2de8bef964785f41a2959829830fb8a</td>\n",
       "      <td>2/10/2020</td>\n",
       "      <td>West Branch</td>\n",
       "      <td>MI</td>\n",
       "      <td>Ogemaw</td>\n",
       "      <td>48661</td>\n",
       "      <td>44.32893</td>\n",
       "      <td>...</td>\n",
       "      <td>242.632554</td>\n",
       "      <td>800.982766</td>\n",
       "      <td>3</td>\n",
       "      <td>4</td>\n",
       "      <td>3</td>\n",
       "      <td>3</td>\n",
       "      <td>4</td>\n",
       "      <td>3</td>\n",
       "      <td>4</td>\n",
       "      <td>4</td>\n",
       "    </tr>\n",
       "    <tr>\n",
       "      <th>2</th>\n",
       "      <td>3</td>\n",
       "      <td>K191035</td>\n",
       "      <td>344d114c-3736-4be5-98f7-c72c281e2d35</td>\n",
       "      <td>f1784cfa9f6d92ae816197eb175d3c71</td>\n",
       "      <td>9/6/2021</td>\n",
       "      <td>Yamhill</td>\n",
       "      <td>OR</td>\n",
       "      <td>Yamhill</td>\n",
       "      <td>97148</td>\n",
       "      <td>45.35589</td>\n",
       "      <td>...</td>\n",
       "      <td>159.947583</td>\n",
       "      <td>2054.706961</td>\n",
       "      <td>4</td>\n",
       "      <td>4</td>\n",
       "      <td>2</td>\n",
       "      <td>4</td>\n",
       "      <td>4</td>\n",
       "      <td>3</td>\n",
       "      <td>3</td>\n",
       "      <td>3</td>\n",
       "    </tr>\n",
       "    <tr>\n",
       "      <th>3</th>\n",
       "      <td>4</td>\n",
       "      <td>D90850</td>\n",
       "      <td>abfa2b40-2d43-4994-b15a-989b8c79e311</td>\n",
       "      <td>dc8a365077241bb5cd5ccd305136b05e</td>\n",
       "      <td>5/30/2021</td>\n",
       "      <td>Del Mar</td>\n",
       "      <td>CA</td>\n",
       "      <td>San Diego</td>\n",
       "      <td>92014</td>\n",
       "      <td>32.96687</td>\n",
       "      <td>...</td>\n",
       "      <td>119.956840</td>\n",
       "      <td>2164.579412</td>\n",
       "      <td>4</td>\n",
       "      <td>4</td>\n",
       "      <td>4</td>\n",
       "      <td>2</td>\n",
       "      <td>5</td>\n",
       "      <td>4</td>\n",
       "      <td>3</td>\n",
       "      <td>3</td>\n",
       "    </tr>\n",
       "    <tr>\n",
       "      <th>4</th>\n",
       "      <td>5</td>\n",
       "      <td>K662701</td>\n",
       "      <td>68a861fd-0d20-4e51-a587-8a90407ee574</td>\n",
       "      <td>aabb64a116e83fdc4befc1fbab1663f9</td>\n",
       "      <td>7/5/2021</td>\n",
       "      <td>Needville</td>\n",
       "      <td>TX</td>\n",
       "      <td>Fort Bend</td>\n",
       "      <td>77461</td>\n",
       "      <td>29.38012</td>\n",
       "      <td>...</td>\n",
       "      <td>149.948316</td>\n",
       "      <td>271.493436</td>\n",
       "      <td>4</td>\n",
       "      <td>4</td>\n",
       "      <td>4</td>\n",
       "      <td>3</td>\n",
       "      <td>4</td>\n",
       "      <td>4</td>\n",
       "      <td>4</td>\n",
       "      <td>5</td>\n",
       "    </tr>\n",
       "  </tbody>\n",
       "</table>\n",
       "<p>5 rows × 51 columns</p>\n",
       "</div>"
      ],
      "text/plain": [
       "   CaseOrder Customer_id                           Interaction  \\\n",
       "0          1     K409198  aa90260b-4141-4a24-8e36-b04ce1f4f77b   \n",
       "1          2     S120509  fb76459f-c047-4a9d-8af9-e0f7d4ac2524   \n",
       "2          3     K191035  344d114c-3736-4be5-98f7-c72c281e2d35   \n",
       "3          4      D90850  abfa2b40-2d43-4994-b15a-989b8c79e311   \n",
       "4          5     K662701  68a861fd-0d20-4e51-a587-8a90407ee574   \n",
       "\n",
       "                                UID input_date         City State  \\\n",
       "0  e885b299883d4f9fb18e39c75155d990  6/29/2021  Point Baker    AK   \n",
       "1  f2de8bef964785f41a2959829830fb8a  2/10/2020  West Branch    MI   \n",
       "2  f1784cfa9f6d92ae816197eb175d3c71   9/6/2021      Yamhill    OR   \n",
       "3  dc8a365077241bb5cd5ccd305136b05e  5/30/2021      Del Mar    CA   \n",
       "4  aabb64a116e83fdc4befc1fbab1663f9   7/5/2021    Needville    TX   \n",
       "\n",
       "                  County    Zip       Lat  ...  MonthlyCharge  \\\n",
       "0  Prince of Wales-Hyder  99927  56.25100  ...     172.455519   \n",
       "1                 Ogemaw  48661  44.32893  ...     242.632554   \n",
       "2                Yamhill  97148  45.35589  ...     159.947583   \n",
       "3              San Diego  92014  32.96687  ...     119.956840   \n",
       "4              Fort Bend  77461  29.38012  ...     149.948316   \n",
       "\n",
       "   Bandwidth_GB_Year Item1 Item2 Item3  Item4  Item5  Item6 Item7 Item8  \n",
       "0         904.536110     5     5     5      3      4      4     3     4  \n",
       "1         800.982766     3     4     3      3      4      3     4     4  \n",
       "2        2054.706961     4     4     2      4      4      3     3     3  \n",
       "3        2164.579412     4     4     4      2      5      4     3     3  \n",
       "4         271.493436     4     4     4      3      4      4     4     5  \n",
       "\n",
       "[5 rows x 51 columns]"
      ]
     },
     "execution_count": 2,
     "metadata": {},
     "output_type": "execute_result"
    }
   ],
   "source": [
    "# LOAD DATA\n",
    "file = pd.read_csv('C://Users//msmorris//Desktop//Churn_example//churn_clean.csv')\n",
    "file.head()"
   ]
  },
  {
   "cell_type": "markdown",
   "id": "44e7ca2e",
   "metadata": {},
   "source": [
    " #### b) Remove blank spaces drop duplicates"
   ]
  },
  {
   "cell_type": "code",
   "execution_count": 3,
   "id": "70da8aaf",
   "metadata": {},
   "outputs": [
    {
     "name": "stdout",
     "output_type": "stream",
     "text": [
      "[]\n"
     ]
    }
   ],
   "source": [
    "## Assumption is the data is already cleaned per course 207. Validating there are no blank records\n",
    "for col in file:\n",
    "    blanks = []\n",
    "    if file.columns.isna().any()== True:\n",
    "        blanks = col\n",
    "print(blanks)"
   ]
  },
  {
   "cell_type": "code",
   "execution_count": 4,
   "id": "25b130d9",
   "metadata": {},
   "outputs": [],
   "source": [
    "# For effiecency will still make assumption that data is cleaned but perform removal of blank spaces and drop duplicates\n",
    "# Remove blank spaces\n",
    "file = file.replace(\" \", \"\")\n",
    "\n",
    "# Drop Duplicates\n",
    "file = file.drop_duplicates()"
   ]
  },
  {
   "cell_type": "code",
   "execution_count": 5,
   "id": "c09bd281",
   "metadata": {},
   "outputs": [],
   "source": [
    "#### c) Ensure numeric data is in the correct format"
   ]
  },
  {
   "cell_type": "code",
   "execution_count": 6,
   "id": "fc57d7df",
   "metadata": {},
   "outputs": [],
   "source": [
    "#Convert INF to INT\n",
    "# Convert duration to integer\n",
    "for col in file:\n",
    "    if file[col].dtype == 'float':\n",
    "        file[col] = file[col].astype(int)"
   ]
  },
  {
   "cell_type": "code",
   "execution_count": 7,
   "id": "44bac204",
   "metadata": {},
   "outputs": [],
   "source": [
    "# rename item fields\n",
    "col = file.columns.values\n",
    "item_desc= (['Timely_response', 'Timely_fixes', 'Timely_replacements', \n",
    "            'Reliability', 'Options','Respectful_response', \n",
    "            'Courteous_exchange', 'Evidence_of_active_listening'])\n",
    "col[-8:]= item_desc\n",
    "file.columns = col"
   ]
  },
  {
   "cell_type": "code",
   "execution_count": 8,
   "id": "10b70774",
   "metadata": {},
   "outputs": [
    {
     "name": "stdout",
     "output_type": "stream",
     "text": [
      "CaseOrder                       False\n",
      "Customer_id                     False\n",
      "Interaction                     False\n",
      "UID                             False\n",
      "input_date                      False\n",
      "City                            False\n",
      "State                           False\n",
      "County                          False\n",
      "Zip                             False\n",
      "Lat                             False\n",
      "Lng                             False\n",
      "Population                      False\n",
      "Area                            False\n",
      "TimeZone                        False\n",
      "Job                             False\n",
      "Children                        False\n",
      "Age                             False\n",
      "Income                          False\n",
      "Marital                         False\n",
      "Gender                          False\n",
      "Churn                           False\n",
      "Outage_sec_perweek              False\n",
      "Email                           False\n",
      "Contacts                        False\n",
      "Yearly_equip_failure            False\n",
      "Techie                          False\n",
      "Contract                        False\n",
      "Port_modem                      False\n",
      "Tablet                          False\n",
      "InternetService                 False\n",
      "Phone                           False\n",
      "Multiple                        False\n",
      "OnlineSecurity                  False\n",
      "OnlineBackup                    False\n",
      "DeviceProtection                False\n",
      "TechSupport                     False\n",
      "StreamingTV                     False\n",
      "StreamingMovies                 False\n",
      "PaperlessBilling                False\n",
      "PaymentMethod                   False\n",
      "Tenure                          False\n",
      "MonthlyCharge                   False\n",
      "Bandwidth_GB_Year               False\n",
      "Timely_response                 False\n",
      "Timely_fixes                    False\n",
      "Timely_replacements             False\n",
      "Reliability                     False\n",
      "Options                         False\n",
      "Respectful_response             False\n",
      "Courteous_exchange              False\n",
      "Evidence_of_active_listening    False\n",
      "dtype: bool\n"
     ]
    }
   ],
   "source": [
    "file_null = file.isnull().any()\n",
    "print(file_null)"
   ]
  },
  {
   "cell_type": "code",
   "execution_count": 9,
   "id": "b635488c",
   "metadata": {},
   "outputs": [
    {
     "data": {
      "text/html": [
       "<div>\n",
       "<style scoped>\n",
       "    .dataframe tbody tr th:only-of-type {\n",
       "        vertical-align: middle;\n",
       "    }\n",
       "\n",
       "    .dataframe tbody tr th {\n",
       "        vertical-align: top;\n",
       "    }\n",
       "\n",
       "    .dataframe thead th {\n",
       "        text-align: right;\n",
       "    }\n",
       "</style>\n",
       "<table border=\"1\" class=\"dataframe\">\n",
       "  <thead>\n",
       "    <tr style=\"text-align: right;\">\n",
       "      <th></th>\n",
       "      <th>CaseOrder</th>\n",
       "      <th>Customer_id</th>\n",
       "      <th>Interaction</th>\n",
       "      <th>UID</th>\n",
       "      <th>input_date</th>\n",
       "      <th>City</th>\n",
       "      <th>State</th>\n",
       "      <th>County</th>\n",
       "      <th>Zip</th>\n",
       "      <th>Lat</th>\n",
       "      <th>...</th>\n",
       "      <th>MonthlyCharge</th>\n",
       "      <th>Bandwidth_GB_Year</th>\n",
       "      <th>Timely_response</th>\n",
       "      <th>Timely_fixes</th>\n",
       "      <th>Timely_replacements</th>\n",
       "      <th>Reliability</th>\n",
       "      <th>Options</th>\n",
       "      <th>Respectful_response</th>\n",
       "      <th>Courteous_exchange</th>\n",
       "      <th>Evidence_of_active_listening</th>\n",
       "    </tr>\n",
       "  </thead>\n",
       "  <tbody>\n",
       "    <tr>\n",
       "      <th>0</th>\n",
       "      <td>1</td>\n",
       "      <td>K409198</td>\n",
       "      <td>aa90260b-4141-4a24-8e36-b04ce1f4f77b</td>\n",
       "      <td>e885b299883d4f9fb18e39c75155d990</td>\n",
       "      <td>6/29/2021</td>\n",
       "      <td>Point Baker</td>\n",
       "      <td>AK</td>\n",
       "      <td>Prince of Wales-Hyder</td>\n",
       "      <td>99927</td>\n",
       "      <td>56</td>\n",
       "      <td>...</td>\n",
       "      <td>172</td>\n",
       "      <td>904</td>\n",
       "      <td>5</td>\n",
       "      <td>5</td>\n",
       "      <td>5</td>\n",
       "      <td>3</td>\n",
       "      <td>4</td>\n",
       "      <td>4</td>\n",
       "      <td>3</td>\n",
       "      <td>4</td>\n",
       "    </tr>\n",
       "    <tr>\n",
       "      <th>1</th>\n",
       "      <td>2</td>\n",
       "      <td>S120509</td>\n",
       "      <td>fb76459f-c047-4a9d-8af9-e0f7d4ac2524</td>\n",
       "      <td>f2de8bef964785f41a2959829830fb8a</td>\n",
       "      <td>2/10/2020</td>\n",
       "      <td>West Branch</td>\n",
       "      <td>MI</td>\n",
       "      <td>Ogemaw</td>\n",
       "      <td>48661</td>\n",
       "      <td>44</td>\n",
       "      <td>...</td>\n",
       "      <td>242</td>\n",
       "      <td>800</td>\n",
       "      <td>3</td>\n",
       "      <td>4</td>\n",
       "      <td>3</td>\n",
       "      <td>3</td>\n",
       "      <td>4</td>\n",
       "      <td>3</td>\n",
       "      <td>4</td>\n",
       "      <td>4</td>\n",
       "    </tr>\n",
       "    <tr>\n",
       "      <th>2</th>\n",
       "      <td>3</td>\n",
       "      <td>K191035</td>\n",
       "      <td>344d114c-3736-4be5-98f7-c72c281e2d35</td>\n",
       "      <td>f1784cfa9f6d92ae816197eb175d3c71</td>\n",
       "      <td>9/6/2021</td>\n",
       "      <td>Yamhill</td>\n",
       "      <td>OR</td>\n",
       "      <td>Yamhill</td>\n",
       "      <td>97148</td>\n",
       "      <td>45</td>\n",
       "      <td>...</td>\n",
       "      <td>159</td>\n",
       "      <td>2054</td>\n",
       "      <td>4</td>\n",
       "      <td>4</td>\n",
       "      <td>2</td>\n",
       "      <td>4</td>\n",
       "      <td>4</td>\n",
       "      <td>3</td>\n",
       "      <td>3</td>\n",
       "      <td>3</td>\n",
       "    </tr>\n",
       "    <tr>\n",
       "      <th>3</th>\n",
       "      <td>4</td>\n",
       "      <td>D90850</td>\n",
       "      <td>abfa2b40-2d43-4994-b15a-989b8c79e311</td>\n",
       "      <td>dc8a365077241bb5cd5ccd305136b05e</td>\n",
       "      <td>5/30/2021</td>\n",
       "      <td>Del Mar</td>\n",
       "      <td>CA</td>\n",
       "      <td>San Diego</td>\n",
       "      <td>92014</td>\n",
       "      <td>32</td>\n",
       "      <td>...</td>\n",
       "      <td>119</td>\n",
       "      <td>2164</td>\n",
       "      <td>4</td>\n",
       "      <td>4</td>\n",
       "      <td>4</td>\n",
       "      <td>2</td>\n",
       "      <td>5</td>\n",
       "      <td>4</td>\n",
       "      <td>3</td>\n",
       "      <td>3</td>\n",
       "    </tr>\n",
       "    <tr>\n",
       "      <th>4</th>\n",
       "      <td>5</td>\n",
       "      <td>K662701</td>\n",
       "      <td>68a861fd-0d20-4e51-a587-8a90407ee574</td>\n",
       "      <td>aabb64a116e83fdc4befc1fbab1663f9</td>\n",
       "      <td>7/5/2021</td>\n",
       "      <td>Needville</td>\n",
       "      <td>TX</td>\n",
       "      <td>Fort Bend</td>\n",
       "      <td>77461</td>\n",
       "      <td>29</td>\n",
       "      <td>...</td>\n",
       "      <td>149</td>\n",
       "      <td>271</td>\n",
       "      <td>4</td>\n",
       "      <td>4</td>\n",
       "      <td>4</td>\n",
       "      <td>3</td>\n",
       "      <td>4</td>\n",
       "      <td>4</td>\n",
       "      <td>4</td>\n",
       "      <td>5</td>\n",
       "    </tr>\n",
       "    <tr>\n",
       "      <th>...</th>\n",
       "      <td>...</td>\n",
       "      <td>...</td>\n",
       "      <td>...</td>\n",
       "      <td>...</td>\n",
       "      <td>...</td>\n",
       "      <td>...</td>\n",
       "      <td>...</td>\n",
       "      <td>...</td>\n",
       "      <td>...</td>\n",
       "      <td>...</td>\n",
       "      <td>...</td>\n",
       "      <td>...</td>\n",
       "      <td>...</td>\n",
       "      <td>...</td>\n",
       "      <td>...</td>\n",
       "      <td>...</td>\n",
       "      <td>...</td>\n",
       "      <td>...</td>\n",
       "      <td>...</td>\n",
       "      <td>...</td>\n",
       "      <td>...</td>\n",
       "    </tr>\n",
       "    <tr>\n",
       "      <th>9995</th>\n",
       "      <td>9996</td>\n",
       "      <td>M324793</td>\n",
       "      <td>45deb5a2-ae04-4518-bf0b-c82db8dbe4a4</td>\n",
       "      <td>9499fb4de537af195d16d046b79fd20a</td>\n",
       "      <td>2/2/2020</td>\n",
       "      <td>Mount Holly</td>\n",
       "      <td>VT</td>\n",
       "      <td>Rutland</td>\n",
       "      <td>5758</td>\n",
       "      <td>43</td>\n",
       "      <td>...</td>\n",
       "      <td>159</td>\n",
       "      <td>6511</td>\n",
       "      <td>3</td>\n",
       "      <td>2</td>\n",
       "      <td>3</td>\n",
       "      <td>3</td>\n",
       "      <td>4</td>\n",
       "      <td>3</td>\n",
       "      <td>2</td>\n",
       "      <td>3</td>\n",
       "    </tr>\n",
       "    <tr>\n",
       "      <th>9996</th>\n",
       "      <td>9997</td>\n",
       "      <td>D861732</td>\n",
       "      <td>6e96b921-0c09-4993-bbda-a1ac6411061a</td>\n",
       "      <td>c09a841117fa81b5c8e19afec2760104</td>\n",
       "      <td>10/3/2021</td>\n",
       "      <td>Clarksville</td>\n",
       "      <td>TN</td>\n",
       "      <td>Montgomery</td>\n",
       "      <td>37042</td>\n",
       "      <td>36</td>\n",
       "      <td>...</td>\n",
       "      <td>207</td>\n",
       "      <td>5695</td>\n",
       "      <td>4</td>\n",
       "      <td>5</td>\n",
       "      <td>5</td>\n",
       "      <td>4</td>\n",
       "      <td>4</td>\n",
       "      <td>5</td>\n",
       "      <td>2</td>\n",
       "      <td>5</td>\n",
       "    </tr>\n",
       "    <tr>\n",
       "      <th>9997</th>\n",
       "      <td>9998</td>\n",
       "      <td>I243405</td>\n",
       "      <td>e8307ddf-9a01-4fff-bc59-4742e03fd24f</td>\n",
       "      <td>9c41f212d1e04dca84445019bbc9b41c</td>\n",
       "      <td>1/31/2020</td>\n",
       "      <td>Mobeetie</td>\n",
       "      <td>TX</td>\n",
       "      <td>Wheeler</td>\n",
       "      <td>79061</td>\n",
       "      <td>35</td>\n",
       "      <td>...</td>\n",
       "      <td>169</td>\n",
       "      <td>4159</td>\n",
       "      <td>4</td>\n",
       "      <td>4</td>\n",
       "      <td>4</td>\n",
       "      <td>4</td>\n",
       "      <td>4</td>\n",
       "      <td>4</td>\n",
       "      <td>4</td>\n",
       "      <td>5</td>\n",
       "    </tr>\n",
       "    <tr>\n",
       "      <th>9998</th>\n",
       "      <td>9999</td>\n",
       "      <td>I641617</td>\n",
       "      <td>3775ccfc-0052-4107-81ae-9657f81ecdf3</td>\n",
       "      <td>3e1f269b40c235a1038863ecf6b7a0df</td>\n",
       "      <td>9/22/2020</td>\n",
       "      <td>Carrollton</td>\n",
       "      <td>GA</td>\n",
       "      <td>Carroll</td>\n",
       "      <td>30117</td>\n",
       "      <td>33</td>\n",
       "      <td>...</td>\n",
       "      <td>252</td>\n",
       "      <td>6468</td>\n",
       "      <td>4</td>\n",
       "      <td>4</td>\n",
       "      <td>6</td>\n",
       "      <td>4</td>\n",
       "      <td>3</td>\n",
       "      <td>3</td>\n",
       "      <td>5</td>\n",
       "      <td>4</td>\n",
       "    </tr>\n",
       "    <tr>\n",
       "      <th>9999</th>\n",
       "      <td>10000</td>\n",
       "      <td>T38070</td>\n",
       "      <td>9de5fb6e-bd33-4995-aec8-f01d0172a499</td>\n",
       "      <td>0ea683a03a3cd544aefe8388aab16176</td>\n",
       "      <td>4/3/2020</td>\n",
       "      <td>Clarkesville</td>\n",
       "      <td>GA</td>\n",
       "      <td>Habersham</td>\n",
       "      <td>30523</td>\n",
       "      <td>34</td>\n",
       "      <td>...</td>\n",
       "      <td>217</td>\n",
       "      <td>5857</td>\n",
       "      <td>2</td>\n",
       "      <td>2</td>\n",
       "      <td>3</td>\n",
       "      <td>3</td>\n",
       "      <td>3</td>\n",
       "      <td>3</td>\n",
       "      <td>4</td>\n",
       "      <td>1</td>\n",
       "    </tr>\n",
       "  </tbody>\n",
       "</table>\n",
       "<p>10000 rows × 51 columns</p>\n",
       "</div>"
      ],
      "text/plain": [
       "      CaseOrder Customer_id                           Interaction  \\\n",
       "0             1     K409198  aa90260b-4141-4a24-8e36-b04ce1f4f77b   \n",
       "1             2     S120509  fb76459f-c047-4a9d-8af9-e0f7d4ac2524   \n",
       "2             3     K191035  344d114c-3736-4be5-98f7-c72c281e2d35   \n",
       "3             4      D90850  abfa2b40-2d43-4994-b15a-989b8c79e311   \n",
       "4             5     K662701  68a861fd-0d20-4e51-a587-8a90407ee574   \n",
       "...         ...         ...                                   ...   \n",
       "9995       9996     M324793  45deb5a2-ae04-4518-bf0b-c82db8dbe4a4   \n",
       "9996       9997     D861732  6e96b921-0c09-4993-bbda-a1ac6411061a   \n",
       "9997       9998     I243405  e8307ddf-9a01-4fff-bc59-4742e03fd24f   \n",
       "9998       9999     I641617  3775ccfc-0052-4107-81ae-9657f81ecdf3   \n",
       "9999      10000      T38070  9de5fb6e-bd33-4995-aec8-f01d0172a499   \n",
       "\n",
       "                                   UID input_date          City State  \\\n",
       "0     e885b299883d4f9fb18e39c75155d990  6/29/2021   Point Baker    AK   \n",
       "1     f2de8bef964785f41a2959829830fb8a  2/10/2020   West Branch    MI   \n",
       "2     f1784cfa9f6d92ae816197eb175d3c71   9/6/2021       Yamhill    OR   \n",
       "3     dc8a365077241bb5cd5ccd305136b05e  5/30/2021       Del Mar    CA   \n",
       "4     aabb64a116e83fdc4befc1fbab1663f9   7/5/2021     Needville    TX   \n",
       "...                                ...        ...           ...   ...   \n",
       "9995  9499fb4de537af195d16d046b79fd20a   2/2/2020   Mount Holly    VT   \n",
       "9996  c09a841117fa81b5c8e19afec2760104  10/3/2021   Clarksville    TN   \n",
       "9997  9c41f212d1e04dca84445019bbc9b41c  1/31/2020      Mobeetie    TX   \n",
       "9998  3e1f269b40c235a1038863ecf6b7a0df  9/22/2020    Carrollton    GA   \n",
       "9999  0ea683a03a3cd544aefe8388aab16176   4/3/2020  Clarkesville    GA   \n",
       "\n",
       "                     County    Zip  Lat  ...  MonthlyCharge  \\\n",
       "0     Prince of Wales-Hyder  99927   56  ...            172   \n",
       "1                    Ogemaw  48661   44  ...            242   \n",
       "2                   Yamhill  97148   45  ...            159   \n",
       "3                 San Diego  92014   32  ...            119   \n",
       "4                 Fort Bend  77461   29  ...            149   \n",
       "...                     ...    ...  ...  ...            ...   \n",
       "9995                Rutland   5758   43  ...            159   \n",
       "9996             Montgomery  37042   36  ...            207   \n",
       "9997                Wheeler  79061   35  ...            169   \n",
       "9998                Carroll  30117   33  ...            252   \n",
       "9999              Habersham  30523   34  ...            217   \n",
       "\n",
       "      Bandwidth_GB_Year Timely_response Timely_fixes Timely_replacements  \\\n",
       "0                   904               5            5                   5   \n",
       "1                   800               3            4                   3   \n",
       "2                  2054               4            4                   2   \n",
       "3                  2164               4            4                   4   \n",
       "4                   271               4            4                   4   \n",
       "...                 ...             ...          ...                 ...   \n",
       "9995               6511               3            2                   3   \n",
       "9996               5695               4            5                   5   \n",
       "9997               4159               4            4                   4   \n",
       "9998               6468               4            4                   6   \n",
       "9999               5857               2            2                   3   \n",
       "\n",
       "      Reliability  Options  Respectful_response Courteous_exchange  \\\n",
       "0               3        4                    4                  3   \n",
       "1               3        4                    3                  4   \n",
       "2               4        4                    3                  3   \n",
       "3               2        5                    4                  3   \n",
       "4               3        4                    4                  4   \n",
       "...           ...      ...                  ...                ...   \n",
       "9995            3        4                    3                  2   \n",
       "9996            4        4                    5                  2   \n",
       "9997            4        4                    4                  4   \n",
       "9998            4        3                    3                  5   \n",
       "9999            3        3                    3                  4   \n",
       "\n",
       "     Evidence_of_active_listening  \n",
       "0                               4  \n",
       "1                               4  \n",
       "2                               3  \n",
       "3                               3  \n",
       "4                               5  \n",
       "...                           ...  \n",
       "9995                            3  \n",
       "9996                            5  \n",
       "9997                            5  \n",
       "9998                            4  \n",
       "9999                            1  \n",
       "\n",
       "[10000 rows x 51 columns]"
      ]
     },
     "execution_count": 9,
     "metadata": {},
     "output_type": "execute_result"
    }
   ],
   "source": [
    "file"
   ]
  },
  {
   "cell_type": "code",
   "execution_count": 10,
   "id": "7d9f7a80",
   "metadata": {},
   "outputs": [
    {
     "data": {
      "text/plain": [
       "Index(['CaseOrder', 'Customer_id', 'Interaction', 'UID', 'input_date', 'City',\n",
       "       'State', 'County', 'Zip', 'Lat', 'Lng', 'Population', 'Area',\n",
       "       'TimeZone', 'Job', 'Children', 'Age', 'Income', 'Marital', 'Gender',\n",
       "       'Churn', 'Outage_sec_perweek', 'Email', 'Contacts',\n",
       "       'Yearly_equip_failure', 'Techie', 'Contract', 'Port_modem', 'Tablet',\n",
       "       'InternetService', 'Phone', 'Multiple', 'OnlineSecurity',\n",
       "       'OnlineBackup', 'DeviceProtection', 'TechSupport', 'StreamingTV',\n",
       "       'StreamingMovies', 'PaperlessBilling', 'PaymentMethod', 'Tenure',\n",
       "       'MonthlyCharge', 'Bandwidth_GB_Year', 'Timely_response', 'Timely_fixes',\n",
       "       'Timely_replacements', 'Reliability', 'Options', 'Respectful_response',\n",
       "       'Courteous_exchange', 'Evidence_of_active_listening'],\n",
       "      dtype='object')"
      ]
     },
     "execution_count": 10,
     "metadata": {},
     "output_type": "execute_result"
    }
   ],
   "source": [
    "file.columns"
   ]
  },
  {
   "cell_type": "markdown",
   "id": "a1cdcdc6",
   "metadata": {},
   "source": [
    "#### subset features of interest"
   ]
  },
  {
   "cell_type": "markdown",
   "id": "e8d30c11",
   "metadata": {},
   "source": [
    "Churn, Tenure, Techie, Bandwidth_GB_Year, StreamingMovies, StreamingTV, Outage_sec_perweek"
   ]
  },
  {
   "cell_type": "code",
   "execution_count": 11,
   "id": "7468bfb3",
   "metadata": {},
   "outputs": [],
   "source": [
    "df = file[['Churn', 'Tenure', 'Techie', 'Tablet','Bandwidth_GB_Year', 'StreamingMovies', 'StreamingTV', 'Outage_sec_perweek']]"
   ]
  },
  {
   "cell_type": "code",
   "execution_count": 12,
   "id": "74bd30e6",
   "metadata": {},
   "outputs": [
    {
     "data": {
      "text/html": [
       "<div>\n",
       "<style scoped>\n",
       "    .dataframe tbody tr th:only-of-type {\n",
       "        vertical-align: middle;\n",
       "    }\n",
       "\n",
       "    .dataframe tbody tr th {\n",
       "        vertical-align: top;\n",
       "    }\n",
       "\n",
       "    .dataframe thead th {\n",
       "        text-align: right;\n",
       "    }\n",
       "</style>\n",
       "<table border=\"1\" class=\"dataframe\">\n",
       "  <thead>\n",
       "    <tr style=\"text-align: right;\">\n",
       "      <th></th>\n",
       "      <th>Churn</th>\n",
       "      <th>Tenure</th>\n",
       "      <th>Techie</th>\n",
       "      <th>Tablet</th>\n",
       "      <th>Bandwidth_GB_Year</th>\n",
       "      <th>StreamingMovies</th>\n",
       "      <th>StreamingTV</th>\n",
       "      <th>Outage_sec_perweek</th>\n",
       "    </tr>\n",
       "  </thead>\n",
       "  <tbody>\n",
       "    <tr>\n",
       "      <th>0</th>\n",
       "      <td>No</td>\n",
       "      <td>6</td>\n",
       "      <td>No</td>\n",
       "      <td>Yes</td>\n",
       "      <td>904</td>\n",
       "      <td>Yes</td>\n",
       "      <td>No</td>\n",
       "      <td>7</td>\n",
       "    </tr>\n",
       "    <tr>\n",
       "      <th>1</th>\n",
       "      <td>Yes</td>\n",
       "      <td>1</td>\n",
       "      <td>Yes</td>\n",
       "      <td>Yes</td>\n",
       "      <td>800</td>\n",
       "      <td>Yes</td>\n",
       "      <td>Yes</td>\n",
       "      <td>11</td>\n",
       "    </tr>\n",
       "    <tr>\n",
       "      <th>2</th>\n",
       "      <td>No</td>\n",
       "      <td>15</td>\n",
       "      <td>Yes</td>\n",
       "      <td>No</td>\n",
       "      <td>2054</td>\n",
       "      <td>Yes</td>\n",
       "      <td>No</td>\n",
       "      <td>10</td>\n",
       "    </tr>\n",
       "    <tr>\n",
       "      <th>3</th>\n",
       "      <td>No</td>\n",
       "      <td>17</td>\n",
       "      <td>Yes</td>\n",
       "      <td>No</td>\n",
       "      <td>2164</td>\n",
       "      <td>No</td>\n",
       "      <td>Yes</td>\n",
       "      <td>14</td>\n",
       "    </tr>\n",
       "    <tr>\n",
       "      <th>4</th>\n",
       "      <td>Yes</td>\n",
       "      <td>1</td>\n",
       "      <td>No</td>\n",
       "      <td>No</td>\n",
       "      <td>271</td>\n",
       "      <td>No</td>\n",
       "      <td>Yes</td>\n",
       "      <td>8</td>\n",
       "    </tr>\n",
       "    <tr>\n",
       "      <th>...</th>\n",
       "      <td>...</td>\n",
       "      <td>...</td>\n",
       "      <td>...</td>\n",
       "      <td>...</td>\n",
       "      <td>...</td>\n",
       "      <td>...</td>\n",
       "      <td>...</td>\n",
       "      <td>...</td>\n",
       "    </tr>\n",
       "    <tr>\n",
       "      <th>9995</th>\n",
       "      <td>No</td>\n",
       "      <td>68</td>\n",
       "      <td>No</td>\n",
       "      <td>Yes</td>\n",
       "      <td>6511</td>\n",
       "      <td>No</td>\n",
       "      <td>No</td>\n",
       "      <td>9</td>\n",
       "    </tr>\n",
       "    <tr>\n",
       "      <th>9996</th>\n",
       "      <td>No</td>\n",
       "      <td>61</td>\n",
       "      <td>No</td>\n",
       "      <td>No</td>\n",
       "      <td>5695</td>\n",
       "      <td>No</td>\n",
       "      <td>Yes</td>\n",
       "      <td>6</td>\n",
       "    </tr>\n",
       "    <tr>\n",
       "      <th>9997</th>\n",
       "      <td>No</td>\n",
       "      <td>47</td>\n",
       "      <td>No</td>\n",
       "      <td>No</td>\n",
       "      <td>4159</td>\n",
       "      <td>No</td>\n",
       "      <td>No</td>\n",
       "      <td>6</td>\n",
       "    </tr>\n",
       "    <tr>\n",
       "      <th>9998</th>\n",
       "      <td>No</td>\n",
       "      <td>71</td>\n",
       "      <td>No</td>\n",
       "      <td>Yes</td>\n",
       "      <td>6468</td>\n",
       "      <td>Yes</td>\n",
       "      <td>Yes</td>\n",
       "      <td>12</td>\n",
       "    </tr>\n",
       "    <tr>\n",
       "      <th>9999</th>\n",
       "      <td>No</td>\n",
       "      <td>63</td>\n",
       "      <td>No</td>\n",
       "      <td>No</td>\n",
       "      <td>5857</td>\n",
       "      <td>Yes</td>\n",
       "      <td>No</td>\n",
       "      <td>11</td>\n",
       "    </tr>\n",
       "  </tbody>\n",
       "</table>\n",
       "<p>10000 rows × 8 columns</p>\n",
       "</div>"
      ],
      "text/plain": [
       "     Churn  Tenure Techie Tablet  Bandwidth_GB_Year StreamingMovies  \\\n",
       "0       No       6     No    Yes                904             Yes   \n",
       "1      Yes       1    Yes    Yes                800             Yes   \n",
       "2       No      15    Yes     No               2054             Yes   \n",
       "3       No      17    Yes     No               2164              No   \n",
       "4      Yes       1     No     No                271              No   \n",
       "...    ...     ...    ...    ...                ...             ...   \n",
       "9995    No      68     No    Yes               6511              No   \n",
       "9996    No      61     No     No               5695              No   \n",
       "9997    No      47     No     No               4159              No   \n",
       "9998    No      71     No    Yes               6468             Yes   \n",
       "9999    No      63     No     No               5857             Yes   \n",
       "\n",
       "     StreamingTV  Outage_sec_perweek  \n",
       "0             No                   7  \n",
       "1            Yes                  11  \n",
       "2             No                  10  \n",
       "3            Yes                  14  \n",
       "4            Yes                   8  \n",
       "...          ...                 ...  \n",
       "9995          No                   9  \n",
       "9996         Yes                   6  \n",
       "9997          No                   6  \n",
       "9998         Yes                  12  \n",
       "9999          No                  11  \n",
       "\n",
       "[10000 rows x 8 columns]"
      ]
     },
     "execution_count": 12,
     "metadata": {},
     "output_type": "execute_result"
    }
   ],
   "source": [
    "df"
   ]
  },
  {
   "cell_type": "code",
   "execution_count": 13,
   "id": "0c2700aa",
   "metadata": {},
   "outputs": [
    {
     "name": "stdout",
     "output_type": "stream",
     "text": [
      "Object list \n",
      " ['Churn', 'Techie', 'Tablet', 'StreamingMovies', 'StreamingTV']\n",
      "\n",
      "\n",
      "Numeric list \n",
      " ['Tenure', 'Bandwidth_GB_Year', 'Outage_sec_perweek']\n"
     ]
    }
   ],
   "source": [
    "# Categorical values group creation\n",
    "obj = []\n",
    "num = []\n",
    "for col in df:\n",
    "    if df[col].dtype == 'object':\n",
    "        obj.append(col) \n",
    "    else:\n",
    "        num.append(col)\n",
    "print(\"Object list \\n\",obj)\n",
    "print('\\n')\n",
    "print(\"Numeric list \\n\",num)"
   ]
  },
  {
   "cell_type": "markdown",
   "id": "fe4756a3",
   "metadata": {},
   "source": [
    "#### EDA"
   ]
  },
  {
   "cell_type": "code",
   "execution_count": 14,
   "id": "3b999f91",
   "metadata": {},
   "outputs": [
    {
     "data": {
      "image/png": "[encoded data removed]",
      "text/plain": [
       "<Figure size 432x288 with 1 Axes>"
      ]
     },
     "metadata": {
      "needs_background": "light"
     },
     "output_type": "display_data"
    },
    {
     "name": "stdout",
     "output_type": "stream",
     "text": [
      "count    10000.00\n",
      "mean        34.03\n",
      "std         26.44\n",
      "min          1.00\n",
      "25%          7.00\n",
      "50%         35.00\n",
      "75%         61.00\n",
      "max         71.00\n",
      "Name: Tenure, dtype: float64\n"
     ]
    },
    {
     "data": {
      "image/png": "[encoded data removed]",
      "text/plain": [
       "<Figure size 432x288 with 1 Axes>"
      ]
     },
     "metadata": {
      "needs_background": "light"
     },
     "output_type": "display_data"
    },
    {
     "name": "stdout",
     "output_type": "stream",
     "text": [
      "count    10000.00\n",
      "mean      3391.84\n",
      "std       2185.29\n",
      "min        155.00\n",
      "25%       1236.00\n",
      "50%       3279.00\n",
      "75%       5586.00\n",
      "max       7158.00\n",
      "Name: Bandwidth_GB_Year, dtype: float64\n"
     ]
    },
    {
     "data": {
      "image/png": "[encoded data removed]",
      "text/plain": [
       "<Figure size 432x288 with 1 Axes>"
      ]
     },
     "metadata": {
      "needs_background": "light"
     },
     "output_type": "display_data"
    },
    {
     "name": "stdout",
     "output_type": "stream",
     "text": [
      "count    10000.00\n",
      "mean         9.50\n",
      "std          2.99\n",
      "min          0.00\n",
      "25%          8.00\n",
      "50%         10.00\n",
      "75%         11.00\n",
      "max         21.00\n",
      "Name: Outage_sec_perweek, dtype: float64\n"
     ]
    }
   ],
   "source": [
    "for column in num:\n",
    "    plt.figure()    \n",
    "    sns.boxplot(data = df, x = column)\n",
    "    plt.show()\n",
    "    print(df[column].describe().round(2).T)\n",
    "    ;"
   ]
  },
  {
   "cell_type": "code",
   "execution_count": 15,
   "id": "bc129dff",
   "metadata": {},
   "outputs": [
    {
     "data": {
      "text/plain": [
       "<Figure size 432x288 with 0 Axes>"
      ]
     },
     "metadata": {},
     "output_type": "display_data"
    },
    {
     "data": {
      "image/png": "[encoded data removed]",
      "text/plain": [
       "<Figure size 360x360 with 1 Axes>"
      ]
     },
     "metadata": {
      "needs_background": "light"
     },
     "output_type": "display_data"
    },
    {
     "data": {
      "text/plain": [
       "<Figure size 432x288 with 0 Axes>"
      ]
     },
     "metadata": {},
     "output_type": "display_data"
    },
    {
     "data": {
      "image/png": "[encoded data removed]",
      "text/plain": [
       "<Figure size 360x360 with 1 Axes>"
      ]
     },
     "metadata": {
      "needs_background": "light"
     },
     "output_type": "display_data"
    },
    {
     "data": {
      "text/plain": [
       "<Figure size 432x288 with 0 Axes>"
      ]
     },
     "metadata": {},
     "output_type": "display_data"
    },
    {
     "data": {
      "image/png": "[encoded data removed]",
      "text/plain": [
       "<Figure size 360x360 with 1 Axes>"
      ]
     },
     "metadata": {
      "needs_background": "light"
     },
     "output_type": "display_data"
    }
   ],
   "source": [
    "for column in num:\n",
    "    plt.figure()    \n",
    "    sns.displot(data = df, x =column, kde = True);"
   ]
  },
  {
   "cell_type": "code",
   "execution_count": 16,
   "id": "39ad8f83",
   "metadata": {},
   "outputs": [
    {
     "data": {
      "image/png": "[encoded data removed]",
      "text/plain": [
       "<Figure size 720x1440 with 5 Axes>"
      ]
     },
     "metadata": {
      "needs_background": "light"
     },
     "output_type": "display_data"
    }
   ],
   "source": [
    "# count plot of categorical data\n",
    "fig = plt.figure(figsize=(10, 20))\n",
    "\n",
    "for i, col in enumerate(obj):\n",
    "    plt.subplot(10, 3, i+1)\n",
    "    ax = sns.countplot(y=col, data=df)\n",
    "    plt.title(col)\n",
    "    fig.tight_layout(h_pad=2, w_pad=2)\n",
    "\n",
    "plt.savefig('countplot_cat_data.png', facecolor='w')"
   ]
  },
  {
   "cell_type": "code",
   "execution_count": 17,
   "id": "7df83b5a",
   "metadata": {},
   "outputs": [
    {
     "data": {
      "text/html": [
       "<div>\n",
       "<style scoped>\n",
       "    .dataframe tbody tr th:only-of-type {\n",
       "        vertical-align: middle;\n",
       "    }\n",
       "\n",
       "    .dataframe tbody tr th {\n",
       "        vertical-align: top;\n",
       "    }\n",
       "\n",
       "    .dataframe thead th {\n",
       "        text-align: right;\n",
       "    }\n",
       "</style>\n",
       "<table border=\"1\" class=\"dataframe\">\n",
       "  <thead>\n",
       "    <tr style=\"text-align: right;\">\n",
       "      <th></th>\n",
       "      <th>Churn</th>\n",
       "      <th>Tenure</th>\n",
       "      <th>Techie</th>\n",
       "      <th>Tablet</th>\n",
       "      <th>Bandwidth_GB_Year</th>\n",
       "      <th>StreamingMovies</th>\n",
       "      <th>StreamingTV</th>\n",
       "      <th>Outage_sec_perweek</th>\n",
       "    </tr>\n",
       "  </thead>\n",
       "  <tbody>\n",
       "    <tr>\n",
       "      <th>0</th>\n",
       "      <td>No</td>\n",
       "      <td>6</td>\n",
       "      <td>No</td>\n",
       "      <td>Yes</td>\n",
       "      <td>904</td>\n",
       "      <td>Yes</td>\n",
       "      <td>No</td>\n",
       "      <td>7</td>\n",
       "    </tr>\n",
       "    <tr>\n",
       "      <th>1</th>\n",
       "      <td>Yes</td>\n",
       "      <td>1</td>\n",
       "      <td>Yes</td>\n",
       "      <td>Yes</td>\n",
       "      <td>800</td>\n",
       "      <td>Yes</td>\n",
       "      <td>Yes</td>\n",
       "      <td>11</td>\n",
       "    </tr>\n",
       "    <tr>\n",
       "      <th>2</th>\n",
       "      <td>No</td>\n",
       "      <td>15</td>\n",
       "      <td>Yes</td>\n",
       "      <td>No</td>\n",
       "      <td>2054</td>\n",
       "      <td>Yes</td>\n",
       "      <td>No</td>\n",
       "      <td>10</td>\n",
       "    </tr>\n",
       "    <tr>\n",
       "      <th>3</th>\n",
       "      <td>No</td>\n",
       "      <td>17</td>\n",
       "      <td>Yes</td>\n",
       "      <td>No</td>\n",
       "      <td>2164</td>\n",
       "      <td>No</td>\n",
       "      <td>Yes</td>\n",
       "      <td>14</td>\n",
       "    </tr>\n",
       "    <tr>\n",
       "      <th>4</th>\n",
       "      <td>Yes</td>\n",
       "      <td>1</td>\n",
       "      <td>No</td>\n",
       "      <td>No</td>\n",
       "      <td>271</td>\n",
       "      <td>No</td>\n",
       "      <td>Yes</td>\n",
       "      <td>8</td>\n",
       "    </tr>\n",
       "    <tr>\n",
       "      <th>...</th>\n",
       "      <td>...</td>\n",
       "      <td>...</td>\n",
       "      <td>...</td>\n",
       "      <td>...</td>\n",
       "      <td>...</td>\n",
       "      <td>...</td>\n",
       "      <td>...</td>\n",
       "      <td>...</td>\n",
       "    </tr>\n",
       "    <tr>\n",
       "      <th>9995</th>\n",
       "      <td>No</td>\n",
       "      <td>68</td>\n",
       "      <td>No</td>\n",
       "      <td>Yes</td>\n",
       "      <td>6511</td>\n",
       "      <td>No</td>\n",
       "      <td>No</td>\n",
       "      <td>9</td>\n",
       "    </tr>\n",
       "    <tr>\n",
       "      <th>9996</th>\n",
       "      <td>No</td>\n",
       "      <td>61</td>\n",
       "      <td>No</td>\n",
       "      <td>No</td>\n",
       "      <td>5695</td>\n",
       "      <td>No</td>\n",
       "      <td>Yes</td>\n",
       "      <td>6</td>\n",
       "    </tr>\n",
       "    <tr>\n",
       "      <th>9997</th>\n",
       "      <td>No</td>\n",
       "      <td>47</td>\n",
       "      <td>No</td>\n",
       "      <td>No</td>\n",
       "      <td>4159</td>\n",
       "      <td>No</td>\n",
       "      <td>No</td>\n",
       "      <td>6</td>\n",
       "    </tr>\n",
       "    <tr>\n",
       "      <th>9998</th>\n",
       "      <td>No</td>\n",
       "      <td>71</td>\n",
       "      <td>No</td>\n",
       "      <td>Yes</td>\n",
       "      <td>6468</td>\n",
       "      <td>Yes</td>\n",
       "      <td>Yes</td>\n",
       "      <td>12</td>\n",
       "    </tr>\n",
       "    <tr>\n",
       "      <th>9999</th>\n",
       "      <td>No</td>\n",
       "      <td>63</td>\n",
       "      <td>No</td>\n",
       "      <td>No</td>\n",
       "      <td>5857</td>\n",
       "      <td>Yes</td>\n",
       "      <td>No</td>\n",
       "      <td>11</td>\n",
       "    </tr>\n",
       "  </tbody>\n",
       "</table>\n",
       "<p>10000 rows × 8 columns</p>\n",
       "</div>"
      ],
      "text/plain": [
       "     Churn  Tenure Techie Tablet  Bandwidth_GB_Year StreamingMovies  \\\n",
       "0       No       6     No    Yes                904             Yes   \n",
       "1      Yes       1    Yes    Yes                800             Yes   \n",
       "2       No      15    Yes     No               2054             Yes   \n",
       "3       No      17    Yes     No               2164              No   \n",
       "4      Yes       1     No     No                271              No   \n",
       "...    ...     ...    ...    ...                ...             ...   \n",
       "9995    No      68     No    Yes               6511              No   \n",
       "9996    No      61     No     No               5695              No   \n",
       "9997    No      47     No     No               4159              No   \n",
       "9998    No      71     No    Yes               6468             Yes   \n",
       "9999    No      63     No     No               5857             Yes   \n",
       "\n",
       "     StreamingTV  Outage_sec_perweek  \n",
       "0             No                   7  \n",
       "1            Yes                  11  \n",
       "2             No                  10  \n",
       "3            Yes                  14  \n",
       "4            Yes                   8  \n",
       "...          ...                 ...  \n",
       "9995          No                   9  \n",
       "9996         Yes                   6  \n",
       "9997          No                   6  \n",
       "9998         Yes                  12  \n",
       "9999          No                  11  \n",
       "\n",
       "[10000 rows x 8 columns]"
      ]
     },
     "execution_count": 17,
     "metadata": {},
     "output_type": "execute_result"
    }
   ],
   "source": [
    "df"
   ]
  },
  {
   "cell_type": "code",
   "execution_count": 18,
   "id": "9afa62b9",
   "metadata": {},
   "outputs": [
    {
     "data": {
      "image/png": "[encoded data removed]",
      "text/plain": [
       "<Figure size 1152x360 with 2 Axes>"
      ]
     },
     "metadata": {
      "needs_background": "light"
     },
     "output_type": "display_data"
    }
   ],
   "source": [
    "df_num= pd.DataFrame(df[num])\n",
    "\n",
    "corrMatrix = df_num.corr().round(2)\n",
    "plt.figure(figsize = (16,5))\n",
    "sns.heatmap(corrMatrix, linewidths=.5, annot=True)\n",
    "plt.show()"
   ]
  },
  {
   "cell_type": "markdown",
   "id": "74705234",
   "metadata": {},
   "source": [
    "#### re-encode features with 'Yes','No' results to Binary 1,0"
   ]
  },
  {
   "cell_type": "code",
   "execution_count": 19,
   "id": "ea0b6526",
   "metadata": {},
   "outputs": [
    {
     "data": {
      "text/plain": [
       "Index(['Churn', 'Tenure', 'Techie', 'Tablet', 'Bandwidth_GB_Year',\n",
       "       'StreamingMovies', 'StreamingTV', 'Outage_sec_perweek'],\n",
       "      dtype='object')"
      ]
     },
     "execution_count": 19,
     "metadata": {},
     "output_type": "execute_result"
    }
   ],
   "source": [
    "df.columns"
   ]
  },
  {
   "cell_type": "code",
   "execution_count": 20,
   "id": "f32278f6",
   "metadata": {},
   "outputs": [
    {
     "data": {
      "text/html": [
       "<div>\n",
       "<style scoped>\n",
       "    .dataframe tbody tr th:only-of-type {\n",
       "        vertical-align: middle;\n",
       "    }\n",
       "\n",
       "    .dataframe tbody tr th {\n",
       "        vertical-align: top;\n",
       "    }\n",
       "\n",
       "    .dataframe thead th {\n",
       "        text-align: right;\n",
       "    }\n",
       "</style>\n",
       "<table border=\"1\" class=\"dataframe\">\n",
       "  <thead>\n",
       "    <tr style=\"text-align: right;\">\n",
       "      <th></th>\n",
       "      <th>Tenure</th>\n",
       "      <th>Techie</th>\n",
       "      <th>Tablet</th>\n",
       "      <th>Bandwidth_GB_Year</th>\n",
       "      <th>StreamingMovies</th>\n",
       "      <th>StreamingTV</th>\n",
       "      <th>Outage_sec_perweek</th>\n",
       "      <th>churn_dum</th>\n",
       "      <th>Intercept</th>\n",
       "    </tr>\n",
       "  </thead>\n",
       "  <tbody>\n",
       "    <tr>\n",
       "      <th>0</th>\n",
       "      <td>6</td>\n",
       "      <td>0</td>\n",
       "      <td>0</td>\n",
       "      <td>904</td>\n",
       "      <td>1</td>\n",
       "      <td>0</td>\n",
       "      <td>7</td>\n",
       "      <td>0</td>\n",
       "      <td>1</td>\n",
       "    </tr>\n",
       "    <tr>\n",
       "      <th>1</th>\n",
       "      <td>1</td>\n",
       "      <td>1</td>\n",
       "      <td>0</td>\n",
       "      <td>800</td>\n",
       "      <td>1</td>\n",
       "      <td>1</td>\n",
       "      <td>11</td>\n",
       "      <td>1</td>\n",
       "      <td>1</td>\n",
       "    </tr>\n",
       "    <tr>\n",
       "      <th>2</th>\n",
       "      <td>15</td>\n",
       "      <td>1</td>\n",
       "      <td>0</td>\n",
       "      <td>2054</td>\n",
       "      <td>1</td>\n",
       "      <td>0</td>\n",
       "      <td>10</td>\n",
       "      <td>0</td>\n",
       "      <td>1</td>\n",
       "    </tr>\n",
       "    <tr>\n",
       "      <th>3</th>\n",
       "      <td>17</td>\n",
       "      <td>1</td>\n",
       "      <td>0</td>\n",
       "      <td>2164</td>\n",
       "      <td>0</td>\n",
       "      <td>1</td>\n",
       "      <td>14</td>\n",
       "      <td>0</td>\n",
       "      <td>1</td>\n",
       "    </tr>\n",
       "    <tr>\n",
       "      <th>4</th>\n",
       "      <td>1</td>\n",
       "      <td>0</td>\n",
       "      <td>0</td>\n",
       "      <td>271</td>\n",
       "      <td>0</td>\n",
       "      <td>1</td>\n",
       "      <td>8</td>\n",
       "      <td>1</td>\n",
       "      <td>1</td>\n",
       "    </tr>\n",
       "    <tr>\n",
       "      <th>...</th>\n",
       "      <td>...</td>\n",
       "      <td>...</td>\n",
       "      <td>...</td>\n",
       "      <td>...</td>\n",
       "      <td>...</td>\n",
       "      <td>...</td>\n",
       "      <td>...</td>\n",
       "      <td>...</td>\n",
       "      <td>...</td>\n",
       "    </tr>\n",
       "    <tr>\n",
       "      <th>9995</th>\n",
       "      <td>68</td>\n",
       "      <td>0</td>\n",
       "      <td>0</td>\n",
       "      <td>6511</td>\n",
       "      <td>0</td>\n",
       "      <td>0</td>\n",
       "      <td>9</td>\n",
       "      <td>0</td>\n",
       "      <td>1</td>\n",
       "    </tr>\n",
       "    <tr>\n",
       "      <th>9996</th>\n",
       "      <td>61</td>\n",
       "      <td>0</td>\n",
       "      <td>0</td>\n",
       "      <td>5695</td>\n",
       "      <td>0</td>\n",
       "      <td>1</td>\n",
       "      <td>6</td>\n",
       "      <td>0</td>\n",
       "      <td>1</td>\n",
       "    </tr>\n",
       "    <tr>\n",
       "      <th>9997</th>\n",
       "      <td>47</td>\n",
       "      <td>0</td>\n",
       "      <td>0</td>\n",
       "      <td>4159</td>\n",
       "      <td>0</td>\n",
       "      <td>0</td>\n",
       "      <td>6</td>\n",
       "      <td>0</td>\n",
       "      <td>1</td>\n",
       "    </tr>\n",
       "    <tr>\n",
       "      <th>9998</th>\n",
       "      <td>71</td>\n",
       "      <td>0</td>\n",
       "      <td>0</td>\n",
       "      <td>6468</td>\n",
       "      <td>1</td>\n",
       "      <td>1</td>\n",
       "      <td>12</td>\n",
       "      <td>0</td>\n",
       "      <td>1</td>\n",
       "    </tr>\n",
       "    <tr>\n",
       "      <th>9999</th>\n",
       "      <td>63</td>\n",
       "      <td>0</td>\n",
       "      <td>0</td>\n",
       "      <td>5857</td>\n",
       "      <td>1</td>\n",
       "      <td>0</td>\n",
       "      <td>11</td>\n",
       "      <td>0</td>\n",
       "      <td>1</td>\n",
       "    </tr>\n",
       "  </tbody>\n",
       "</table>\n",
       "<p>10000 rows × 9 columns</p>\n",
       "</div>"
      ],
      "text/plain": [
       "      Tenure  Techie  Tablet  Bandwidth_GB_Year  StreamingMovies  StreamingTV  \\\n",
       "0          6       0       0                904                1            0   \n",
       "1          1       1       0                800                1            1   \n",
       "2         15       1       0               2054                1            0   \n",
       "3         17       1       0               2164                0            1   \n",
       "4          1       0       0                271                0            1   \n",
       "...      ...     ...     ...                ...              ...          ...   \n",
       "9995      68       0       0               6511                0            0   \n",
       "9996      61       0       0               5695                0            1   \n",
       "9997      47       0       0               4159                0            0   \n",
       "9998      71       0       0               6468                1            1   \n",
       "9999      63       0       0               5857                1            0   \n",
       "\n",
       "      Outage_sec_perweek  churn_dum  Intercept  \n",
       "0                      7          0          1  \n",
       "1                     11          1          1  \n",
       "2                     10          0          1  \n",
       "3                     14          0          1  \n",
       "4                      8          1          1  \n",
       "...                  ...        ...        ...  \n",
       "9995                   9          0          1  \n",
       "9996                   6          0          1  \n",
       "9997                   6          0          1  \n",
       "9998                  12          0          1  \n",
       "9999                  11          0          1  \n",
       "\n",
       "[10000 rows x 9 columns]"
      ]
     },
     "execution_count": 20,
     "metadata": {},
     "output_type": "execute_result"
    }
   ],
   "source": [
    "import warnings\n",
    "warnings.simplefilter(action=\"ignore\")\n",
    "df['churn_dum'] = [1 if i == 'Yes' else 0 for i in df['Churn']]\n",
    "\n",
    "df['Techie'] = [1 if i == 'Yes' else 0 for i in df['Techie']]\n",
    "df['Tablet'] = [1 if i == 'Yes' else 0 for v in df['Tablet']]\n",
    "df['StreamingMovies'] = [1 if i == 'Yes' else 0 for i in df['StreamingMovies']]\n",
    "df['StreamingTV'] = [1 if i == 'Yes' else 0 for i in df['StreamingTV']]\n",
    "df['Intercept'] = 1\n",
    "df = df.drop(columns=['Churn'] )\n",
    "df"
   ]
  },
  {
   "cell_type": "markdown",
   "id": "1cb82d35",
   "metadata": {},
   "source": [
    "### 4.  Provide a copy of the cleaned data set."
   ]
  },
  {
   "cell_type": "code",
   "execution_count": 21,
   "id": "44440a58",
   "metadata": {},
   "outputs": [],
   "source": [
    "df.to_csv(\"C:\\\\Users\\\\msmorris\\\\Desktop\\\\d209t2_pred.csv\")"
   ]
  },
  {
   "cell_type": "markdown",
   "id": "6b30b555",
   "metadata": {},
   "source": [
    "# Part IV: Analysis\n",
    "\n",
    "## D.  Perform the data analysis and report on the results by doing the following:\n",
    "\n"
   ]
  },
  {
   "cell_type": "markdown",
   "id": "3ccc7267",
   "metadata": {},
   "source": [
    "### 1.  Split the data into training and test data sets and provide the file(s).\n",
    "\n"
   ]
  },
  {
   "cell_type": "code",
   "execution_count": 22,
   "id": "b65597e0",
   "metadata": {},
   "outputs": [],
   "source": [
    "#measuring model performance\n",
    "# Defining X and y\n",
    "# Set X as data and y as Target\n",
    "X = df.drop('churn_dum',axis=1)\n",
    "y = df.churn_dum"
   ]
  },
  {
   "cell_type": "code",
   "execution_count": 23,
   "id": "02ed303a",
   "metadata": {},
   "outputs": [
    {
     "data": {
      "text/html": [
       "<div>\n",
       "<style scoped>\n",
       "    .dataframe tbody tr th:only-of-type {\n",
       "        vertical-align: middle;\n",
       "    }\n",
       "\n",
       "    .dataframe tbody tr th {\n",
       "        vertical-align: top;\n",
       "    }\n",
       "\n",
       "    .dataframe thead th {\n",
       "        text-align: right;\n",
       "    }\n",
       "</style>\n",
       "<table border=\"1\" class=\"dataframe\">\n",
       "  <thead>\n",
       "    <tr style=\"text-align: right;\">\n",
       "      <th></th>\n",
       "      <th>Tenure</th>\n",
       "      <th>Techie</th>\n",
       "      <th>Tablet</th>\n",
       "      <th>Bandwidth_GB_Year</th>\n",
       "      <th>StreamingMovies</th>\n",
       "      <th>StreamingTV</th>\n",
       "      <th>Outage_sec_perweek</th>\n",
       "      <th>Intercept</th>\n",
       "    </tr>\n",
       "  </thead>\n",
       "  <tbody>\n",
       "    <tr>\n",
       "      <th>0</th>\n",
       "      <td>6</td>\n",
       "      <td>0</td>\n",
       "      <td>0</td>\n",
       "      <td>904</td>\n",
       "      <td>1</td>\n",
       "      <td>0</td>\n",
       "      <td>7</td>\n",
       "      <td>1</td>\n",
       "    </tr>\n",
       "    <tr>\n",
       "      <th>1</th>\n",
       "      <td>1</td>\n",
       "      <td>1</td>\n",
       "      <td>0</td>\n",
       "      <td>800</td>\n",
       "      <td>1</td>\n",
       "      <td>1</td>\n",
       "      <td>11</td>\n",
       "      <td>1</td>\n",
       "    </tr>\n",
       "    <tr>\n",
       "      <th>2</th>\n",
       "      <td>15</td>\n",
       "      <td>1</td>\n",
       "      <td>0</td>\n",
       "      <td>2054</td>\n",
       "      <td>1</td>\n",
       "      <td>0</td>\n",
       "      <td>10</td>\n",
       "      <td>1</td>\n",
       "    </tr>\n",
       "    <tr>\n",
       "      <th>3</th>\n",
       "      <td>17</td>\n",
       "      <td>1</td>\n",
       "      <td>0</td>\n",
       "      <td>2164</td>\n",
       "      <td>0</td>\n",
       "      <td>1</td>\n",
       "      <td>14</td>\n",
       "      <td>1</td>\n",
       "    </tr>\n",
       "    <tr>\n",
       "      <th>4</th>\n",
       "      <td>1</td>\n",
       "      <td>0</td>\n",
       "      <td>0</td>\n",
       "      <td>271</td>\n",
       "      <td>0</td>\n",
       "      <td>1</td>\n",
       "      <td>8</td>\n",
       "      <td>1</td>\n",
       "    </tr>\n",
       "    <tr>\n",
       "      <th>...</th>\n",
       "      <td>...</td>\n",
       "      <td>...</td>\n",
       "      <td>...</td>\n",
       "      <td>...</td>\n",
       "      <td>...</td>\n",
       "      <td>...</td>\n",
       "      <td>...</td>\n",
       "      <td>...</td>\n",
       "    </tr>\n",
       "    <tr>\n",
       "      <th>9995</th>\n",
       "      <td>68</td>\n",
       "      <td>0</td>\n",
       "      <td>0</td>\n",
       "      <td>6511</td>\n",
       "      <td>0</td>\n",
       "      <td>0</td>\n",
       "      <td>9</td>\n",
       "      <td>1</td>\n",
       "    </tr>\n",
       "    <tr>\n",
       "      <th>9996</th>\n",
       "      <td>61</td>\n",
       "      <td>0</td>\n",
       "      <td>0</td>\n",
       "      <td>5695</td>\n",
       "      <td>0</td>\n",
       "      <td>1</td>\n",
       "      <td>6</td>\n",
       "      <td>1</td>\n",
       "    </tr>\n",
       "    <tr>\n",
       "      <th>9997</th>\n",
       "      <td>47</td>\n",
       "      <td>0</td>\n",
       "      <td>0</td>\n",
       "      <td>4159</td>\n",
       "      <td>0</td>\n",
       "      <td>0</td>\n",
       "      <td>6</td>\n",
       "      <td>1</td>\n",
       "    </tr>\n",
       "    <tr>\n",
       "      <th>9998</th>\n",
       "      <td>71</td>\n",
       "      <td>0</td>\n",
       "      <td>0</td>\n",
       "      <td>6468</td>\n",
       "      <td>1</td>\n",
       "      <td>1</td>\n",
       "      <td>12</td>\n",
       "      <td>1</td>\n",
       "    </tr>\n",
       "    <tr>\n",
       "      <th>9999</th>\n",
       "      <td>63</td>\n",
       "      <td>0</td>\n",
       "      <td>0</td>\n",
       "      <td>5857</td>\n",
       "      <td>1</td>\n",
       "      <td>0</td>\n",
       "      <td>11</td>\n",
       "      <td>1</td>\n",
       "    </tr>\n",
       "  </tbody>\n",
       "</table>\n",
       "<p>10000 rows × 8 columns</p>\n",
       "</div>"
      ],
      "text/plain": [
       "      Tenure  Techie  Tablet  Bandwidth_GB_Year  StreamingMovies  StreamingTV  \\\n",
       "0          6       0       0                904                1            0   \n",
       "1          1       1       0                800                1            1   \n",
       "2         15       1       0               2054                1            0   \n",
       "3         17       1       0               2164                0            1   \n",
       "4          1       0       0                271                0            1   \n",
       "...      ...     ...     ...                ...              ...          ...   \n",
       "9995      68       0       0               6511                0            0   \n",
       "9996      61       0       0               5695                0            1   \n",
       "9997      47       0       0               4159                0            0   \n",
       "9998      71       0       0               6468                1            1   \n",
       "9999      63       0       0               5857                1            0   \n",
       "\n",
       "      Outage_sec_perweek  Intercept  \n",
       "0                      7          1  \n",
       "1                     11          1  \n",
       "2                     10          1  \n",
       "3                     14          1  \n",
       "4                      8          1  \n",
       "...                  ...        ...  \n",
       "9995                   9          1  \n",
       "9996                   6          1  \n",
       "9997                   6          1  \n",
       "9998                  12          1  \n",
       "9999                  11          1  \n",
       "\n",
       "[10000 rows x 8 columns]"
      ]
     },
     "execution_count": 23,
     "metadata": {},
     "output_type": "execute_result"
    }
   ],
   "source": [
    "# review X\n",
    "X"
   ]
  },
  {
   "cell_type": "code",
   "execution_count": 24,
   "id": "b3d35c1d",
   "metadata": {},
   "outputs": [
    {
     "data": {
      "text/plain": [
       "0       0\n",
       "1       1\n",
       "2       0\n",
       "3       0\n",
       "4       1\n",
       "       ..\n",
       "9995    0\n",
       "9996    0\n",
       "9997    0\n",
       "9998    0\n",
       "9999    0\n",
       "Name: churn_dum, Length: 10000, dtype: int64"
      ]
     },
     "execution_count": 24,
     "metadata": {},
     "output_type": "execute_result"
    }
   ],
   "source": [
    "# Review Y\n",
    "y"
   ]
  },
  {
   "cell_type": "code",
   "execution_count": 26,
   "id": "b565f582",
   "metadata": {},
   "outputs": [],
   "source": [
    "# Run test train split with test size of .3\n",
    "# set stratify to y to ensure balance samples \n",
    "# Setting random state to 42 to ensure same values in test train split on reruns\n",
    "X_train, X_test, y_train, y_test = train_test_split(X, y, test_size=0.3, stratify=y, random_state= 42)"
   ]
  },
  {
   "cell_type": "code",
   "execution_count": 28,
   "id": "9036369b",
   "metadata": {},
   "outputs": [],
   "source": [
    "X_train.to_csv(\"C:\\\\Users\\\\msmorris\\\\Desktop\\\\d209t2_X_train.csv\")\n",
    "X_test.to_csv(\"C:\\\\Users\\\\msmorris\\\\Desktop\\\\d209t2_X_test.csv\")\n",
    "y_train.to_csv(\"C:\\\\Users\\\\msmorris\\\\Desktop\\\\d209t2_y_train.csv\")\n",
    "y_test.to_csv(\"C:\\\\Users\\\\msmorris\\\\Desktop\\\\d209t2_y_test.csv\")"
   ]
  },
  {
   "cell_type": "markdown",
   "id": "54a62249",
   "metadata": {},
   "source": [
    "### 2.  Describe the analysis technique you used to appropriately analyze the data. Include screenshots of the intermediate calculations you performed."
   ]
  },
  {
   "cell_type": "markdown",
   "id": "5987954f",
   "metadata": {},
   "source": [
    "Analysis technique used for this review will be random forest. Random forest is a classification technique using several decisions trees. It uses bagging or bootstrapping or more simply put taking several random samples using replacement to infer the population. \n",
    "\n",
    "The goal of this is to create an uncorrelated \"forest\" of decision trees to predict using  multiple layers rather than  as single decision tree. RMSE or finally evaluate the test set with classifcation report, RMSE, ROC and AUC."
   ]
  },
  {
   "cell_type": "code",
   "execution_count": 40,
   "id": "d0360103",
   "metadata": {},
   "outputs": [
    {
     "data": {
      "text/plain": [
       "0.871845006346354"
      ]
     },
     "execution_count": 40,
     "metadata": {},
     "output_type": "execute_result"
    }
   ],
   "source": [
    "from sklearn.metrics import roc_curve, auc\n",
    "false_positive_rate, true_positive_rate, thresholds = roc_curve(y_test, y_pred)\n",
    "roc_auc = auc(false_positive_rate, true_positive_rate)\n",
    "roc_auc"
   ]
  },
  {
   "cell_type": "code",
   "execution_count": 41,
   "id": "ee524f1a",
   "metadata": {},
   "outputs": [
    {
     "data": {
      "image/png": "[encoded data removed]",
      "text/plain": [
       "<Figure size 432x288 with 1 Axes>"
      ]
     },
     "metadata": {
      "needs_background": "light"
     },
     "output_type": "display_data"
    }
   ],
   "source": [
    "n_estimators = [1, 2, 4, 8, 16, 32, 64, 100, 200]\n",
    "train_results = []\n",
    "test_results = []\n",
    "for estimator in n_estimators:\n",
    "   rf = RandomForestClassifier(n_estimators=estimator, n_jobs=-1)\n",
    "   rf.fit(X_train, y_train)   \n",
    "   \n",
    "   train_pred = rf.predict(X_train)   \n",
    "   false_positive_rate, true_positive_rate, thresholds = roc_curve(y_train, train_pred)\n",
    "   roc_auc = auc(false_positive_rate, true_positive_rate)\n",
    "   train_results.append(roc_auc)   \n",
    "   y_pred = rf.predict(X_test)   \n",
    "   false_positive_rate, true_positive_rate, thresholds = roc_curve(y_test, y_pred)\n",
    "   roc_auc = auc(false_positive_rate, true_positive_rate)\n",
    "   test_results.append(roc_auc)\n",
    "from matplotlib.legend_handler import HandlerLine2D\n",
    "line1, = plt.plot(n_estimators, train_results, 'b', label= 'Train AUC')\n",
    "line2, = plt.plot(n_estimators, test_results, 'r', label='Test AUC')\n",
    "plt.legend(handler_map={line1: HandlerLine2D(numpoints=2)})\n",
    "plt.ylabel('AUC score')\n",
    "plt.xlabel('n_estimators')\n",
    "plt.show()"
   ]
  },
  {
   "cell_type": "code",
   "execution_count": null,
   "id": "c843053e",
   "metadata": {},
   "outputs": [],
   "source": [
    "# 16 trees"
   ]
  },
  {
   "cell_type": "code",
   "execution_count": 42,
   "id": "b9d6668d",
   "metadata": {},
   "outputs": [],
   "source": [
    "from sklearn.ensemble import RandomForestRegressor\n",
    "from sklearn.ensemble import RandomForestClassifier\n",
    "#insatiate the model\n",
    "rf = RandomForestRegressor(n_estimators=16, min_samples_leaf=0.12, random_state=42)\n",
    "\n",
    "rf.fit(X_train, y_train)\n",
    "\n",
    "y_pred = rf.predict(X_test)\n",
    "\n"
   ]
  },
  {
   "cell_type": "code",
   "execution_count": 47,
   "id": "4d56e649",
   "metadata": {},
   "outputs": [
    {
     "name": "stdout",
     "output_type": "stream",
     "text": [
      "Test set RMSE of rf: 0.35\n"
     ]
    }
   ],
   "source": [
    "#RMSE of model\n",
    "from sklearn.metrics import mean_squared_error as MSE\n",
    "rmse_test = MSE(y_test, y_pred)**(1/2)\n",
    "print('Test set RMSE of rf: {:.2f}'.format(rmse_test))"
   ]
  },
  {
   "cell_type": "code",
   "execution_count": 51,
   "id": "06860bc2",
   "metadata": {},
   "outputs": [
    {
     "data": {
      "image/png": "[encoded data removed]",
      "text/plain": [
       "<Figure size 432x288 with 1 Axes>"
      ]
     },
     "metadata": {
      "needs_background": "light"
     },
     "output_type": "display_data"
    }
   ],
   "source": [
    "#feature importance\n",
    "import pandas as pd\n",
    "import matplotlib.pyplot as plt\n",
    "importances_rf = pd.Series(rf.feature_importances_)\n",
    "sorted_importances_rf = importances_rf.sort_values()\n",
    "sorted_importances_rf.plot(kind='barh', color='lightblue'); plt.show()"
   ]
  },
  {
   "cell_type": "code",
   "execution_count": 52,
   "id": "89c0ad82",
   "metadata": {},
   "outputs": [
    {
     "name": "stdout",
     "output_type": "stream",
     "text": [
      "Tenure: 0.65\n",
      "Techie: 0.00\n",
      "Tablet: 0.00\n",
      "Bandwidth_GB_Year: 0.00\n",
      "StreamingMovies: 0.35\n",
      "StreamingTV: 0.00\n",
      "Outage_sec_perweek: 0.00\n",
      "churn_dum: 0.00\n"
     ]
    }
   ],
   "source": [
    "for i, item in enumerate(rf.feature_importances_):\n",
    "    print('{0:s}: {1:.2f}'.format(df.columns[i], item))\n",
    "\n"
   ]
  },
  {
   "cell_type": "code",
   "execution_count": 53,
   "id": "1e49719d",
   "metadata": {},
   "outputs": [
    {
     "data": {
      "text/plain": [
       "{'bootstrap': True,\n",
       " 'ccp_alpha': 0.0,\n",
       " 'criterion': 'squared_error',\n",
       " 'max_depth': None,\n",
       " 'max_features': 1.0,\n",
       " 'max_leaf_nodes': None,\n",
       " 'max_samples': None,\n",
       " 'min_impurity_decrease': 0.0,\n",
       " 'min_samples_leaf': 0.12,\n",
       " 'min_samples_split': 2,\n",
       " 'min_weight_fraction_leaf': 0.0,\n",
       " 'n_estimators': 16,\n",
       " 'n_jobs': None,\n",
       " 'oob_score': False,\n",
       " 'random_state': 42,\n",
       " 'verbose': 0,\n",
       " 'warm_start': False}"
      ]
     },
     "execution_count": 53,
     "metadata": {},
     "output_type": "execute_result"
    }
   ],
   "source": [
    "rf.get_params()"
   ]
  },
  {
   "cell_type": "code",
   "execution_count": 69,
   "id": "73f6a24e",
   "metadata": {},
   "outputs": [],
   "source": [
    "#accuracy of train and test data with MAE(Mean Absolute Error)\n",
    "rf.fit(X_train, y_train)\n",
    "train_predictions = rf.predict(X_train)\n",
    "test_predictions = rf.predict(X_test)"
   ]
  },
  {
   "cell_type": "code",
   "execution_count": 70,
   "id": "7d8d90e5",
   "metadata": {},
   "outputs": [],
   "source": [
    "from sklearn.metrics import mean_absolute_error as MAE\n",
    "train_error = MAE(y_true=y_train, y_pred=train_predictions)\n",
    "test_error = MAE(y_true=y_test, y_pred=test_predictions)\n",
    "\n"
   ]
  },
  {
   "cell_type": "code",
   "execution_count": 57,
   "id": "fcb11309",
   "metadata": {},
   "outputs": [
    {
     "name": "stdout",
     "output_type": "stream",
     "text": [
      "Model error on seen data: 0.26.\n",
      "Model error on unsseen data: 0.26.\n"
     ]
    }
   ],
   "source": [
    "print('Model error on seen data: {0:.2f}.'.format(train_error))\n",
    "print('Model error on unsseen data: {0:.2f}.'.format(test_error))"
   ]
  },
  {
   "cell_type": "markdown",
   "id": "d24bfa88",
   "metadata": {},
   "source": [
    "MSE represents the mean squared errors. This metric allows for large errors to have a large impacts on the model. This tells us the accuracy of the model by determining distance from the data to the regression even with outliers affecting it. A lower MSE is interpreted as the  model is closer to the regression. "
   ]
  },
  {
   "cell_type": "code",
   "execution_count": 58,
   "id": "f9c6b7f5",
   "metadata": {},
   "outputs": [],
   "source": [
    "#cross validation metrics\n",
    "from sklearn.model_selection import cross_val_score\n",
    "from sklearn.metrics import make_scorer, mean_squared_error"
   ]
  },
  {
   "cell_type": "code",
   "execution_count": 59,
   "id": "f70a862b",
   "metadata": {},
   "outputs": [],
   "source": [
    "rf = RandomForestRegressor(n_estimators=20, max_depth=5, random_state=1111)\n",
    "mse= make_scorer(mean_squared_error)"
   ]
  },
  {
   "cell_type": "code",
   "execution_count": 60,
   "id": "48f5e806",
   "metadata": {},
   "outputs": [
    {
     "name": "stdout",
     "output_type": "stream",
     "text": [
      "[0.17467388 0.17760368 0.10964037 0.042032   0.0450008 ]\n"
     ]
    }
   ],
   "source": [
    "cv_results = cross_val_score(rf, X, y, cv=5, scoring=mse)\n",
    "print(cv_results)"
   ]
  },
  {
   "cell_type": "code",
   "execution_count": 61,
   "id": "f6bc6aec",
   "metadata": {},
   "outputs": [
    {
     "name": "stdout",
     "output_type": "stream",
     "text": [
      "0.12563630816314297\n"
     ]
    }
   ],
   "source": [
    "print(MSE(y_test, y_pred))"
   ]
  },
  {
   "cell_type": "code",
   "execution_count": 62,
   "id": "44dd1a5d",
   "metadata": {},
   "outputs": [],
   "source": [
    "#GridSearch cross validation\n",
    "from sklearn.model_selection import GridSearchCV\n",
    "SEED=1\n",
    "rf= RandomForestRegressor(random_state=SEED)"
   ]
  },
  {
   "cell_type": "code",
   "execution_count": 63,
   "id": "e54185c2",
   "metadata": {},
   "outputs": [
    {
     "data": {
      "text/plain": [
       "{'bootstrap': True,\n",
       " 'ccp_alpha': 0.0,\n",
       " 'criterion': 'squared_error',\n",
       " 'max_depth': None,\n",
       " 'max_features': 1.0,\n",
       " 'max_leaf_nodes': None,\n",
       " 'max_samples': None,\n",
       " 'min_impurity_decrease': 0.0,\n",
       " 'min_samples_leaf': 1,\n",
       " 'min_samples_split': 2,\n",
       " 'min_weight_fraction_leaf': 0.0,\n",
       " 'n_estimators': 100,\n",
       " 'n_jobs': None,\n",
       " 'oob_score': False,\n",
       " 'random_state': 1,\n",
       " 'verbose': 0,\n",
       " 'warm_start': False}"
      ]
     },
     "execution_count": 63,
     "metadata": {},
     "output_type": "execute_result"
    }
   ],
   "source": [
    "rf.get_params()"
   ]
  },
  {
   "cell_type": "code",
   "execution_count": 64,
   "id": "c04f71b6",
   "metadata": {},
   "outputs": [],
   "source": [
    "params_rf = {'n_estimators': [300, 400, 3000],\n",
    "            'max_depth': [4, 6, 8],\n",
    "            'min_samples_leaf': [0.1, 0.2],\n",
    "            'max_features': ['log2', 'sqrt']}"
   ]
  },
  {
   "cell_type": "code",
   "execution_count": 65,
   "id": "562208c3",
   "metadata": {},
   "outputs": [
    {
     "name": "stdout",
     "output_type": "stream",
     "text": [
      "Fitting 5 folds for each of 36 candidates, totalling 180 fits\n"
     ]
    },
    {
     "data": {
      "text/html": [
       "<style>#sk-container-id-1 {color: black;background-color: white;}#sk-container-id-1 pre{padding: 0;}#sk-container-id-1 div.sk-toggleable {background-color: white;}#sk-container-id-1 label.sk-toggleable__label {cursor: pointer;display: block;width: 100%;margin-bottom: 0;padding: 0.3em;box-sizing: border-box;text-align: center;}#sk-container-id-1 label.sk-toggleable__label-arrow:before {content: \"▸\";float: left;margin-right: 0.25em;color: #696969;}#sk-container-id-1 label.sk-toggleable__label-arrow:hover:before {color: black;}#sk-container-id-1 div.sk-estimator:hover label.sk-toggleable__label-arrow:before {color: black;}#sk-container-id-1 div.sk-toggleable__content {max-height: 0;max-width: 0;overflow: hidden;text-align: left;background-color: #f0f8ff;}#sk-container-id-1 div.sk-toggleable__content pre {margin: 0.2em;color: black;border-radius: 0.25em;background-color: #f0f8ff;}#sk-container-id-1 input.sk-toggleable__control:checked~div.sk-toggleable__content {max-height: 200px;max-width: 100%;overflow: auto;}#sk-container-id-1 input.sk-toggleable__control:checked~label.sk-toggleable__label-arrow:before {content: \"▾\";}#sk-container-id-1 div.sk-estimator input.sk-toggleable__control:checked~label.sk-toggleable__label {background-color: #d4ebff;}#sk-container-id-1 div.sk-label input.sk-toggleable__control:checked~label.sk-toggleable__label {background-color: #d4ebff;}#sk-container-id-1 input.sk-hidden--visually {border: 0;clip: rect(1px 1px 1px 1px);clip: rect(1px, 1px, 1px, 1px);height: 1px;margin: -1px;overflow: hidden;padding: 0;position: absolute;width: 1px;}#sk-container-id-1 div.sk-estimator {font-family: monospace;background-color: #f0f8ff;border: 1px dotted black;border-radius: 0.25em;box-sizing: border-box;margin-bottom: 0.5em;}#sk-container-id-1 div.sk-estimator:hover {background-color: #d4ebff;}#sk-container-id-1 div.sk-parallel-item::after {content: \"\";width: 100%;border-bottom: 1px solid gray;flex-grow: 1;}#sk-container-id-1 div.sk-label:hover label.sk-toggleable__label {background-color: #d4ebff;}#sk-container-id-1 div.sk-serial::before {content: \"\";position: absolute;border-left: 1px solid gray;box-sizing: border-box;top: 0;bottom: 0;left: 50%;z-index: 0;}#sk-container-id-1 div.sk-serial {display: flex;flex-direction: column;align-items: center;background-color: white;padding-right: 0.2em;padding-left: 0.2em;position: relative;}#sk-container-id-1 div.sk-item {position: relative;z-index: 1;}#sk-container-id-1 div.sk-parallel {display: flex;align-items: stretch;justify-content: center;background-color: white;position: relative;}#sk-container-id-1 div.sk-item::before, #sk-container-id-1 div.sk-parallel-item::before {content: \"\";position: absolute;border-left: 1px solid gray;box-sizing: border-box;top: 0;bottom: 0;left: 50%;z-index: -1;}#sk-container-id-1 div.sk-parallel-item {display: flex;flex-direction: column;z-index: 1;position: relative;background-color: white;}#sk-container-id-1 div.sk-parallel-item:first-child::after {align-self: flex-end;width: 50%;}#sk-container-id-1 div.sk-parallel-item:last-child::after {align-self: flex-start;width: 50%;}#sk-container-id-1 div.sk-parallel-item:only-child::after {width: 0;}#sk-container-id-1 div.sk-dashed-wrapped {border: 1px dashed gray;margin: 0 0.4em 0.5em 0.4em;box-sizing: border-box;padding-bottom: 0.4em;background-color: white;}#sk-container-id-1 div.sk-label label {font-family: monospace;font-weight: bold;display: inline-block;line-height: 1.2em;}#sk-container-id-1 div.sk-label-container {text-align: center;}#sk-container-id-1 div.sk-container {/* jupyter's `normalize.less` sets `[hidden] { display: none; }` but bootstrap.min.css set `[hidden] { display: none !important; }` so we also need the `!important` here to be able to override the default hidden behavior on the sphinx rendered scikit-learn.org. See: https://github.com/scikit-learn/scikit-learn/issues/21755 */display: inline-block !important;position: relative;}#sk-container-id-1 div.sk-text-repr-fallback {display: none;}</style><div id=\"sk-container-id-1\" class=\"sk-top-container\"><div class=\"sk-text-repr-fallback\"><pre>GridSearchCV(cv=5, estimator=RandomForestRegressor(random_state=1), n_jobs=-1,\n",
       "             param_grid={&#x27;max_depth&#x27;: [4, 6, 8],\n",
       "                         &#x27;max_features&#x27;: [&#x27;log2&#x27;, &#x27;sqrt&#x27;],\n",
       "                         &#x27;min_samples_leaf&#x27;: [0.1, 0.2],\n",
       "                         &#x27;n_estimators&#x27;: [300, 400, 3000]},\n",
       "             scoring=&#x27;neg_mean_squared_error&#x27;, verbose=1)</pre><b>In a Jupyter environment, please rerun this cell to show the HTML representation or trust the notebook. <br />On GitHub, the HTML representation is unable to render, please try loading this page with nbviewer.org.</b></div><div class=\"sk-container\" hidden><div class=\"sk-item sk-dashed-wrapped\"><div class=\"sk-label-container\"><div class=\"sk-label sk-toggleable\"><input class=\"sk-toggleable__control sk-hidden--visually\" id=\"sk-estimator-id-1\" type=\"checkbox\" ><label for=\"sk-estimator-id-1\" class=\"sk-toggleable__label sk-toggleable__label-arrow\">GridSearchCV</label><div class=\"sk-toggleable__content\"><pre>GridSearchCV(cv=5, estimator=RandomForestRegressor(random_state=1), n_jobs=-1,\n",
       "             param_grid={&#x27;max_depth&#x27;: [4, 6, 8],\n",
       "                         &#x27;max_features&#x27;: [&#x27;log2&#x27;, &#x27;sqrt&#x27;],\n",
       "                         &#x27;min_samples_leaf&#x27;: [0.1, 0.2],\n",
       "                         &#x27;n_estimators&#x27;: [300, 400, 3000]},\n",
       "             scoring=&#x27;neg_mean_squared_error&#x27;, verbose=1)</pre></div></div></div><div class=\"sk-parallel\"><div class=\"sk-parallel-item\"><div class=\"sk-item\"><div class=\"sk-label-container\"><div class=\"sk-label sk-toggleable\"><input class=\"sk-toggleable__control sk-hidden--visually\" id=\"sk-estimator-id-2\" type=\"checkbox\" ><label for=\"sk-estimator-id-2\" class=\"sk-toggleable__label sk-toggleable__label-arrow\">estimator: RandomForestRegressor</label><div class=\"sk-toggleable__content\"><pre>RandomForestRegressor(random_state=1)</pre></div></div></div><div class=\"sk-serial\"><div class=\"sk-item\"><div class=\"sk-estimator sk-toggleable\"><input class=\"sk-toggleable__control sk-hidden--visually\" id=\"sk-estimator-id-3\" type=\"checkbox\" ><label for=\"sk-estimator-id-3\" class=\"sk-toggleable__label sk-toggleable__label-arrow\">RandomForestRegressor</label><div class=\"sk-toggleable__content\"><pre>RandomForestRegressor(random_state=1)</pre></div></div></div></div></div></div></div></div></div></div>"
      ],
      "text/plain": [
       "GridSearchCV(cv=5, estimator=RandomForestRegressor(random_state=1), n_jobs=-1,\n",
       "             param_grid={'max_depth': [4, 6, 8],\n",
       "                         'max_features': ['log2', 'sqrt'],\n",
       "                         'min_samples_leaf': [0.1, 0.2],\n",
       "                         'n_estimators': [300, 400, 3000]},\n",
       "             scoring='neg_mean_squared_error', verbose=1)"
      ]
     },
     "execution_count": 65,
     "metadata": {},
     "output_type": "execute_result"
    }
   ],
   "source": [
    "rf_cv = GridSearchCV(estimator=rf,\n",
    "                       param_grid=params_rf,\n",
    "                       scoring='neg_mean_squared_error',\n",
    "                       cv=5,\n",
    "                       verbose=1, \n",
    "                      n_jobs=-1)\n",
    "rf_cv.fit(X_train, y_train)"
   ]
  },
  {
   "cell_type": "code",
   "execution_count": 66,
   "id": "141707a2",
   "metadata": {},
   "outputs": [
    {
     "name": "stdout",
     "output_type": "stream",
     "text": [
      "Best score for this Random Forest Regressor model: -0.130\n"
     ]
    }
   ],
   "source": [
    "print('Best score for this Random Forest Regressor model: {:.3f}'.format(rf_cv.best_score_))"
   ]
  },
  {
   "cell_type": "code",
   "execution_count": 67,
   "id": "a41c1f5f",
   "metadata": {},
   "outputs": [
    {
     "name": "stdout",
     "output_type": "stream",
     "text": [
      "Best hyperparameters:\n",
      " {'max_depth': 4, 'max_features': 'log2', 'min_samples_leaf': 0.1, 'n_estimators': 300}\n"
     ]
    }
   ],
   "source": [
    "best_hyperparams = rf_cv.best_params_\n",
    "print('Best hyperparameters:\\n', best_hyperparams)"
   ]
  },
  {
   "cell_type": "code",
   "execution_count": 68,
   "id": "4231e633",
   "metadata": {},
   "outputs": [
    {
     "name": "stdout",
     "output_type": "stream",
     "text": [
      "Test set RMSE of rf: 0.36\n"
     ]
    }
   ],
   "source": [
    "#evaluating the best model performance\n",
    "best_model = rf_cv.best_estimator_\n",
    "y_pred= best_model.predict(X_test)\n",
    "rmse_test = MSE(y_test, y_pred)**(1/2)\n",
    "print('Test set RMSE of rf: {:.2f}'.format(rmse_test))"
   ]
  }
 ],
 "metadata": {
  "kernelspec": {
   "display_name": "Python 3 (ipykernel)",
   "language": "python",
   "name": "python3"
  },
  "language_info": {
   "codemirror_mode": {
    "name": "ipython",
    "version": 3
   },
   "file_extension": ".py",
   "mimetype": "text/x-python",
   "name": "python",
   "nbconvert_exporter": "python",
   "pygments_lexer": "ipython3",
   "version": "3.11.5"
  }
 },
 "nbformat": 4,
 "nbformat_minor": 5
}
